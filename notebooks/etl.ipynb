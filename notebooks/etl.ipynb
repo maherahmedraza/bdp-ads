{
 "cells": [
  {
   "cell_type": "markdown",
   "source": [
    "Importing libraries"
   ],
   "metadata": {
    "collapsed": false
   }
  },
  {
   "cell_type": "code",
   "execution_count": 38,
   "metadata": {
    "collapsed": true,
    "ExecuteTime": {
     "end_time": "2023-07-20T00:30:28.920521423Z",
     "start_time": "2023-07-20T00:30:28.476726730Z"
    }
   },
   "outputs": [
    {
     "data": {
      "text/plain": "True"
     },
     "execution_count": 38,
     "metadata": {},
     "output_type": "execute_result"
    }
   ],
   "source": [
    "import os\n",
    "from sqlite3 import Row\n",
    "\n",
    "import boto3\n",
    "import gzip\n",
    "import json\n",
    "from dotenv import load_dotenv\n",
    "from io import BytesIO\n",
    "from pyspark.sql import SparkSession\n",
    "\n",
    "# Load environment variables\n",
    "load_dotenv()"
   ]
  },
  {
   "cell_type": "markdown",
   "source": [
    "Connecting to S3 bucket"
   ],
   "metadata": {
    "collapsed": false
   }
  },
  {
   "cell_type": "code",
   "execution_count": 3,
   "outputs": [
    {
     "name": "stdout",
     "output_type": "stream",
     "text": [
      "Session(region_name='eu-central-1')\n"
     ]
    }
   ],
   "source": [
    "# Creating Boto3 Session\n",
    "aws_access_key_id = os.getenv('AWS_ACCESS_KEY_ID')\n",
    "aws_secret_access_key = os.getenv('AWS_SECRET_ACCESS_KEY')\n",
    "aws_region = os.getenv('AWS_REGION')\n",
    "aws_bucket_name = os.getenv('AWS_BUCKET_NAME')\n",
    "\n",
    "session = boto3.Session(\n",
    "    aws_access_key_id=aws_access_key_id,\n",
    "    aws_secret_access_key=aws_secret_access_key,\n",
    "    region_name=aws_region\n",
    ")\n",
    "print(session)\n",
    "\n",
    "prefix = 'DE/monthly/'\n",
    "\n",
    "# Create an S3 client\n",
    "s3 = boto3.client('s3')\n"
   ],
   "metadata": {
    "collapsed": false,
    "ExecuteTime": {
     "end_time": "2023-07-19T22:18:29.704335502Z",
     "start_time": "2023-07-19T22:18:06.906746657Z"
    }
   }
  },
  {
   "cell_type": "markdown",
   "source": [
    "Outputting the list of files in the bucket"
   ],
   "metadata": {
    "collapsed": false
   }
  },
  {
   "cell_type": "code",
   "execution_count": 4,
   "outputs": [
    {
     "name": "stdout",
     "output_type": "stream",
     "text": [
      "{'ResponseMetadata': {'RequestId': 'EJWT9W6VARV7732Q', 'HostId': 'w2qLZwcqv+R3liIf7zYugd84UA/PLAscmiEEvbtwIePO3b007XbiQ7TjQO06oW9epkgfdqUoxNFZlMavXHbw1A==', 'HTTPStatusCode': 200, 'HTTPHeaders': {'x-amz-id-2': 'w2qLZwcqv+R3liIf7zYugd84UA/PLAscmiEEvbtwIePO3b007XbiQ7TjQO06oW9epkgfdqUoxNFZlMavXHbw1A==', 'x-amz-request-id': 'EJWT9W6VARV7732Q', 'date': 'Wed, 19 Jul 2023 22:18:31 GMT', 'x-amz-bucket-region': 'eu-central-1', 'content-type': 'application/xml', 'transfer-encoding': 'chunked', 'server': 'AmazonS3'}, 'RetryAttempts': 1}, 'IsTruncated': False, 'Name': 'jobfeed-data-feeds', 'Prefix': 'DE/monthly/', 'Delimiter': '/', 'MaxKeys': 1000, 'CommonPrefixes': [{'Prefix': 'DE/monthly/2020-06/'}, {'Prefix': 'DE/monthly/2020-07/'}, {'Prefix': 'DE/monthly/2020-08/'}, {'Prefix': 'DE/monthly/2020-09/'}, {'Prefix': 'DE/monthly/2020-10/'}, {'Prefix': 'DE/monthly/2020-11/'}, {'Prefix': 'DE/monthly/2020-12/'}, {'Prefix': 'DE/monthly/2021-01/'}, {'Prefix': 'DE/monthly/2021-02/'}, {'Prefix': 'DE/monthly/2021-03/'}, {'Prefix': 'DE/monthly/2021-04/'}, {'Prefix': 'DE/monthly/2021-05/'}, {'Prefix': 'DE/monthly/2021-06/'}, {'Prefix': 'DE/monthly/2021-07/'}, {'Prefix': 'DE/monthly/2021-08/'}, {'Prefix': 'DE/monthly/2021-09/'}, {'Prefix': 'DE/monthly/2021-10/'}, {'Prefix': 'DE/monthly/2021-11/'}, {'Prefix': 'DE/monthly/2021-12/'}, {'Prefix': 'DE/monthly/2022-01/'}, {'Prefix': 'DE/monthly/2022-02/'}, {'Prefix': 'DE/monthly/2022-03/'}, {'Prefix': 'DE/monthly/2022-04/'}, {'Prefix': 'DE/monthly/2022-05/'}, {'Prefix': 'DE/monthly/2022-06/'}, {'Prefix': 'DE/monthly/2022-07/'}, {'Prefix': 'DE/monthly/2022-08/'}, {'Prefix': 'DE/monthly/2022-09/'}, {'Prefix': 'DE/monthly/2022-10/'}, {'Prefix': 'DE/monthly/2022-11/'}, {'Prefix': 'DE/monthly/2022-12/'}, {'Prefix': 'DE/monthly/2023-01/'}, {'Prefix': 'DE/monthly/2023-02/'}, {'Prefix': 'DE/monthly/2023-03/'}, {'Prefix': 'DE/monthly/2023-04/'}, {'Prefix': 'DE/monthly/2023-05/'}, {'Prefix': 'DE/monthly/2023-06/'}], 'EncodingType': 'url', 'KeyCount': 37}\n"
     ]
    }
   ],
   "source": [
    "# Get the list of objects in the S3 bucket\n",
    "response = s3.list_objects_v2(Bucket=aws_bucket_name, Prefix=prefix, Delimiter='/')\n",
    "print(response)\n"
   ],
   "metadata": {
    "collapsed": false,
    "ExecuteTime": {
     "end_time": "2023-07-19T22:18:30.701813640Z",
     "start_time": "2023-07-19T22:18:29.722097866Z"
    }
   }
  },
  {
   "cell_type": "markdown",
   "source": [
    "Downloading the files from the bucket"
   ],
   "metadata": {
    "collapsed": false
   }
  },
  {
   "cell_type": "code",
   "execution_count": 5,
   "outputs": [
    {
     "name": "stdout",
     "output_type": "stream",
     "text": [
      "Downloading file jobs.0.jsonl.gz...\n",
      "DE/monthly/2023-06/jobs.0.jsonl.gz\n",
      "/home/vboxuser/Documents/PycharmProjects/Bigdata-Processing-pipeline/data/raw/jobfeed-data-feeds/DE/monthly/2023-06/jobs.0.jsonl.gz\n",
      "/home/vboxuser/Documents/PycharmProjects/Bigdata-Processing-pipeline/data/raw/jobfeed-data-feeds/DE/monthly/2023-06/jobs.0.jsonl\n"
     ]
    }
   ],
   "source": [
    "#Number of Months to download\n",
    "months = 1\n",
    "# Number of files per month to download\n",
    "files_per_month = 1\n",
    "# current project directory parent path\n",
    "ROOT_DIR = os.path.abspath(os.pardir)\n",
    "\n",
    "\n",
    "# Get the list of subfolders in the S3 bucket\n",
    "subfolders = [obj['Prefix'] for obj in response['CommonPrefixes']]\n",
    "# Get the last N subfolders - N = months of data to download\n",
    "subfolders = subfolders[-months:]\n",
    "\n",
    "\n",
    "filesToLoadInDF = []\n",
    "# Download files from each subfolder\n",
    "for subfolder in subfolders:\n",
    "    # Get the list of files in the subfolder\n",
    "    response = s3.list_objects_v2(Bucket=aws_bucket_name, Prefix=subfolder)\n",
    "    # Get the file paths\n",
    "    files = [obj['Key'] for obj in response['Contents'] if obj['Key'].endswith('.jsonl.gz')]\n",
    "    # Only get the first N files\n",
    "    files = files[:files_per_month]\n",
    "\n",
    "    # filesToLoadInDF = [filesToLoadInDF.append(f) for f in files]\n",
    "\n",
    "    # Create the folder in your local machine\n",
    "    folder = ROOT_DIR + \"/data/raw/\" + aws_bucket_name + \"/\" + subfolder\n",
    "    if not os.path.exists(folder):\n",
    "        os.makedirs(folder)\n",
    "    # Download and extract each file\n",
    "    for file in files:\n",
    "        filename = file.rsplit(\"/\", 1)[1]\n",
    "        print('Downloading file {}...'.format(filename))\n",
    "        print(subfolder + filename)\n",
    "        print(folder + filename)\n",
    "\n",
    "        # Download and Save the file\n",
    "        s3.download_file(Filename=folder + filename, Bucket=aws_bucket_name, Key=subfolder + filename)\n",
    "\n",
    "        locaFilePath = os.path.join(folder + filename)\n",
    "        localExtractedFilePath = os.path.join(folder + filename[:-3])\n",
    "        print(localExtractedFilePath)\n",
    "        filesToLoadInDF.append(localExtractedFilePath)\n",
    "        # Extract the data from the gzipped file\n",
    "        with gzip.open(locaFilePath, 'rb') as gz_file, open(localExtractedFilePath, 'wb') as extract_file:\n",
    "            extract_file.write(gz_file.read())\n",
    "\n",
    "        # Delete the gzipped file\n",
    "        os.remove(locaFilePath)"
   ],
   "metadata": {
    "collapsed": false,
    "ExecuteTime": {
     "end_time": "2023-07-19T22:22:21.228213881Z",
     "start_time": "2023-07-19T22:19:59.799965632Z"
    }
   }
  },
  {
   "cell_type": "markdown",
   "source": [
    "Creating the Spark Session"
   ],
   "metadata": {
    "collapsed": false
   }
  },
  {
   "cell_type": "code",
   "execution_count": 6,
   "outputs": [
    {
     "name": "stderr",
     "output_type": "stream",
     "text": [
      "23/07/20 00:23:14 WARN Utils: Your hostname, Ahmed-Ubuntu resolves to a loopback address: 127.0.1.1; using 10.0.2.15 instead (on interface enp0s3)\n",
      "23/07/20 00:23:14 WARN Utils: Set SPARK_LOCAL_IP if you need to bind to another address\n",
      "Setting default log level to \"WARN\".\n",
      "To adjust logging level use sc.setLogLevel(newLevel). For SparkR, use setLogLevel(newLevel).\n",
      "23/07/20 00:23:24 WARN NativeCodeLoader: Unable to load native-hadoop library for your platform... using builtin-java classes where applicable\n"
     ]
    },
    {
     "name": "stdout",
     "output_type": "stream",
     "text": [
      "['/home/vboxuser/Documents/PycharmProjects/Bigdata-Processing-pipeline/data/raw/jobfeed-data-feeds/DE/monthly/2023-06/jobs.0.jsonl']\n"
     ]
    },
    {
     "name": "stderr",
     "output_type": "stream",
     "text": [
      "23/07/20 00:25:57 WARN package: Truncated the string representation of a plan since it was too large. This behavior can be adjusted by setting 'spark.sql.debug.maxToStringFields'.\n",
      "                                                                                \r"
     ]
    },
    {
     "name": "stdout",
     "output_type": "stream",
     "text": [
      "+-------------------------+--------------------+-----------------------+--------------------+--------------------+----------------+----------------------+---------------------------+----------------+--------------------+--------------------+--------------------+-----------------------+--------------------+------------------------+---------------------+----------------------+--------------------+----------+--------------------+--------+---------------+--------------------+--------------------+--------------------+---------------------+-------------------+---------------+-------+--------------------+-------------------+-----------------+--------------------+--------------------+--------------------+--------------------+--------+--------------------+--------+--------------------+-------------+--------------------+------------------------+---------------------+--------------------+---------------------+------------------------+---------------------+--------------------------+--------------------+------------------------+------------------------+--------------------+-----------------+--------------------------+--------------------+-------------+--------------------+--------------------+--------------------+--------------------+--------------------+--------------------+-------------------------+--------------------+--------------------+------+-----------+----------------+-----------------+---------+--------------+---------------+--------------------+-----------------+--------------------+--------------------+--------------------+----------------+--------------------+\n",
      "|advertiser_contact_person|    advertiser_email|advertiser_house_number| advertiser_location|     advertiser_name|advertiser_phone|advertiser_postal_code|advertiser_reference_number|advertiser_spend|   advertiser_street|     advertiser_type|  advertiser_website|application_description|           apply_url|available_contact_fields|candidate_description|conditions_description|       contract_type|      date|duplicate_on_jobsite|duration|education_level|employer_description|     employment_type|    experience_level|experience_years_from|experience_years_to|expiration_date|expired|           full_text|hours_per_week_from|hours_per_week_to|           it_skills|     job_description|              job_id|           job_title|language|     language_skills|location|location_coordinates|location_name|location_postal_code|location_remote_possible|organization_activity|organization_address|organization_industry|organization_linkedin_id|organization_location|organization_location_name|   organization_name|organization_national_id|organization_postal_code| organization_region|organization_size|organization_street_number|organization_website|posting_count|          posting_id|          profession|    profession_class|    profession_group|profession_isco_code|profession_kldb_code|profession_onet_2019_code| professional_skills|              region|salary|salary_from|salary_from_rate|salary_time_scale|salary_to|salary_to_rate|sequence_number|         soft_skills|      source_type|          source_url|      source_website|source_website_count|via_intermediary|  working_hours_type|\n",
      "+-------------------------+--------------------+-----------------------+--------------------+--------------------+----------------+----------------------+---------------------------+----------------+--------------------+--------------------+--------------------+-----------------------+--------------------+------------------------+---------------------+----------------------+--------------------+----------+--------------------+--------+---------------+--------------------+--------------------+--------------------+---------------------+-------------------+---------------+-------+--------------------+-------------------+-----------------+--------------------+--------------------+--------------------+--------------------+--------+--------------------+--------+--------------------+-------------+--------------------+------------------------+---------------------+--------------------+---------------------+------------------------+---------------------+--------------------------+--------------------+------------------------+------------------------+--------------------+-----------------+--------------------------+--------------------+-------------+--------------------+--------------------+--------------------+--------------------+--------------------+--------------------+-------------------------+--------------------+--------------------+------+-----------+----------------+-----------------+---------+--------------+---------------+--------------------+-----------------+--------------------+--------------------+--------------------+----------------+--------------------+\n",
      "|     Alexander Persona...|    info@yourfirm.de|                   null|             Munchen|            yourfirm|     08941614110|                 81541|                       null|            null|        Welfenstr 22|{Direct employer, 1}|         yourfirm.de|                   null|                null|    advertiser_name a...|                 null|                  null|{Permanent contra...|2023-06-01|                true|    null| {Unbekannt, 0}|Ansprechpartner\\n...|{Full-time (> 32 ...|                null|                 null|               null|           null|  false|Ansprechpartner\\n...|               null|             null|                null|                null|4688fecb70464ac8a...|Fachkraft für Arb...|      de|                null|    7013|52.478069305,9.80...|   Isernhagen|                null|                   false| {Erbringung von s...|Welfenstr 22, 815...| {Persönliche Dien...|                    null|                 2434|                   München|       yourfirm GmbH|                    null|                   81541|        {Bayern, BY}|   {Unbekannt, 0}|              Welfenstr 22|         yourfirm.de|            1|4688fecb70464ac8a...|{Sicherheitsbeauf...|{Recht, Personalw...|{Arbeitsschutzexp...|{Environmental an...|{Occupations focu...|     {Health and Safet...|[{Gesundheit und ...| {Niedersachsen, NI}|  null|       null|            null|             null|     null|          null|     5991643979|[{Zuverlässigkeit...|     {Jobsite, 1}|https://www.markt...|            markt.de|                   1|           false|{Regular working ...|\n",
      "|             Anna Hartung| info@ziehl-abegg.de|                      1|Kupferzell Günthe...|      Ziehl-abegg Se|    +49794016852|                 74635|                       null|            null|              Straße|{Direct employer, 1}|                null|   Ansprechpartner\\n...|https://myjobboar...|    advertiser_name a...| * Erfolgreich abg...|  * Spannende und h...| {Voluntary work, 8}|2023-06-01|               false|    null|  {Bachelor, 7}|                null|{Full-time (> 32 ...|                null|                 null|               null|           null|  false|Wollen Sie zu ihr...|               null|             null|                null|* Führung von int...|0fbab3850d61430cb...|Projektmanager (m...|      de|[{Englisch, KS123...|    1586|49.227275848,9.69...|   Kupferzell|                null|                   false|                 null|                null| {Andere / Unbekan...|                    null|                 null|                      null|      ZIEHL-ABEGG SE|                    null|                    null|                null|   {Unbekannt, 0}|                      null|                null|            1|0fbab3850d61430cb...|{Projektleiter (m...|     {Verwaltung, 2}|{Management, Verw...|{Business service...|{Supervisors in b...|     {Project Manageme...|[{Mitarbeiterverg...|{Baden-Württember...|  null|       null|            null|             null|     null|          null|     5991642662|[{Freundlichkeit,...|{Company site, 4}|https://karriere....|      ziehl-abegg.de|                   1|           false|{Regular working ...|\n",
      "|     Christoph Abraham...|   jobs@parimobil.de|                     42|             Krefeld|     Parimobil Ggmbh|    +49215184333|                 47798|                       null|            null|        Muhlenstr 42|{Direct employer, 1}|    www.parimobil.de|   PariMobil gGmbH\\n...|https://www.parim...|    advertiser_name a...| * die Erlaubnis z...|  * eine vielseitig...|{Permanent contra...|2023-06-01|               false|    null| {Unbekannt, 0}|                null|{Full-time (> 32 ...|                null|                 null|               null|           null|  false|Startseite Stelle...|                 39|               39|                null|                null|d484993786d74e7ea...|Pflegedienstleitu...|      de|                null|    null|                null|         null|                null|                   false| {Sonstiges Sozial...|Muhlenstr 42, 477...| {Gesundheitswesen...|                    null|                 7756|                   Krefeld|     PariMobil gGmbH|                    null|                   47798|{Nordrhein-Westfa...|   {Unbekannt, 0}|              Muhlenstr 42|        parimobil.de|            2|d484993786d74e7ea...|{Pflegedienstleit...|{Gesundheitswesen...|{Hauptkrankenpfle...|{Nursing professi...|{Supervisors in n...|     {Licensed Practic...|[{Wirtschaft, KS1...|                null|  null|       null|            null|             null|     null|          null|     5991579211|[{Eigenmotivation...|{Company site, 4}|https://www.parim...|        parimobil.de|                   1|           false|{Regular working ...|\n",
      "|                     null|homburg@proserv-d...|                      1|            Saarland|Proserv Produktio...|      0721597260|                 66424|                       null|            null|Edouard-Michelin-...|{Staffing / Recru...|proserv-dienstlei...|   http://proserv-di...|https://www.ebay-...|    advertiser_name a...| Bereitschaft zur ...|                  null|{Permanent contra...|2023-06-01|                true|    null| {Unbekannt, 0}|* PG ProServ GmbH...|{Full-time (> 32 ...|                null|                 null|               null|           null|  false|* via E-Mail teil...|               null|             null|                null|Bestückung und Be...|4cc1bba078924b42a...|Ferienhelfer (m/w/d)|      de|[{Deutsch, KS124B...|   11592|49.342124939,7.34...|      Homburg|               66424|                   false| {Sonstige Überlas...|Pfannkuchstr 8, 7...| {Arbeitsvermittlu...|                    null|                 1796|                 Karlsruhe|ProServ Produktio...|                    null|                   76185|{Baden-Württember...|   {Unbekannt, 0}|            Pfannkuchstr 8|proserv-dienstlei...|            1|4cc1bba078924b42a...|{Hilfskraft (m/w/...|         {Andere, 0}|{Sonstige Berufe, 0}|{Unknown, 9999999...|{Office clerks an...|     {Laborers and Fre...|[{Maschinen, KS12...|      {Saarland, SL}|  null|       null|            null|             null|     null|          null|     5991644266|                null|     {Jobsite, 1}|https://www.ebay-...|ebay-kleinanzeige...|                   1|            true|{Irregular workin...|\n",
      "|           Alicia Joachim|  karriere@burda.com|                   null|             Munchen|Hubert Burda Medi...|        08992500|                 81925|                       null|            null|      Arabellastr 23|{Direct employer, 1}|            amica.de|   Kontakt Alicia Jo...|https://career5.s...|    advertiser_name a...| * Erste Kenntniss...|  * Zahlreiche Einb...|{Internship / Gra...|2023-06-01|               false|    null|  {Bachelor, 7}|                null|{Full-time (> 32 ...|{Internship, VAC_...|                 null|               null|           null|  false|Werkstudent Verma...|               null|             null|[{Microsoft Excel...|Als Werkstudent:i...|e62495db2c0a42358...|Werkstudent Verma...|      de|                null|    2434|48.135124207,11.5...|      München|                null|                   false| {Erbringung von s...|Arabellastr 23, 8...| {Persönliche Dien...|                    null|                 2434|                   München|Hubert Burda Medi...|                    null|                   81925|        {Bayern, BY}|       {5000+, 8}|            Arabellastr 23|            amica.de|            1|e62495db2c0a42358...|{Marketingfachkra...|{Kommunikation, M...|{Mitarbeiter Mark...|{Advertising and ...|{Occupations in a...|     {Search Marketing...|[{Mediaplanung, K...|        {Bayern, BY}|  null|       null|            null|             null|     null|          null|     5991631753|[{Professionelle ...|{Company site, 4}|https://www.burda...|hubert-burda-medi...|                   1|           false|{Irregular workin...|\n",
      "|            Marius Detmar|  karriere@burda.com|                   null|             Munchen|Hubert Burda Medi...|        08992500|                 81925|                       null|            null|      Arabellastr 23|{Direct employer, 1}|            amica.de|   Kontakt Marius De...|https://career5.s...|    advertiser_name a...| * Ein fachbezogen...|  * Ambitioniertes ...|{Temporary contra...|2023-06-01|               false|    null|  {Bachelor, 7}|Hubert Burda Medi...|{Full-time (> 32 ...|                null|                 null|               null|           null|  false|Chef vom Dienst f...|               null|             null|                null|* Sie entwickeln ...|c07e93fe41b94e188...|Chef vom Dienst f...|      de|                null|    2434|48.135124207,11.5...|      München|                null|                   false| {Erbringung von s...|Arabellastr 23, 8...| {Persönliche Dien...|                    null|                 2434|                   München|Hubert Burda Medi...|                    null|                   81925|        {Bayern, BY}|       {5000+, 8}|            Arabellastr 23|            amica.de|            1|c07e93fe41b94e188...|{Polizeibeamter (...|{Polizei, Feuerwe...|{Polizeibeamte (m...|{Police officers,...|{Uniformed police...|     {Police and Sheri...|[{Innovation, KS0...|        {Bayern, BY}|  null|       null|            null|             null|     null|          null|     5991631635|[{Anpassungsfähig...|{Company site, 4}|https://www.burda...|hubert-burda-medi...|                   1|           false|{Irregular workin...|\n",
      "|              Lisa Trogus|  karriere@burda.com|                   null|           Offenburg|Hubert Burda Medi...|        07818401|                 77652|                       null|            null|        Hauptstr 130|{Direct employer, 1}|hubert-burda-medi...|   Kontakt Lisa Trog...|https://career5.s...|    advertiser_name a...|                 null|                  null|{Permanent contra...|2023-06-01|               false|    null| {Unbekannt, 0}|* A company with ...|{Full-time (> 32 ...|                null|                 null|               null|           null|  false|## What you can e...|               null|             null|[{Javascript, KS1...|* You are strong ...|5558fec8d3a94f3ca...|Backend Developer...|      de|[{Englisch, KS123...|    null|                null|         null|                null|                   false| {Erbringung von s...|Hauptstr 130, 776...| {Persönliche Dien...|                    null|                 1849|                 Offenburg|Hubert Burda Medi...|                    null|                   77652|{Baden-Württember...|       {5000+, 8}|              Hauptstr 130|hubert-burda-medi...|            1|5558fec8d3a94f3ca...|{Frontend Entwick...|{Informations- un...|{Web Professional...|{Graphic and mult...|{Occupations in p...|     {Web Developers, ...|[{Architektur, KS...|                null|  null|       null|            null|             null|     null|          null|     5991631784|[{Kommunikation, ...|{Company site, 4}|https://www.burda...|hubert-burda-medi...|                   1|           false|{Regular working ...|\n",
      "|         Philipp Schaefer|  karriere@burda.com|                   null|           Offenburg|Hubert Burda Medi...|        07818401|                 77652|                       null|            null|Hubert Burda Platz 1|{Direct employer, 1}|burda-community-n...|   Kontakt Philipp S...|https://career5.s...|    advertiser_name a...| * Abgeschlossene ...|  * Eine interessan...|{Permanent contra...|2023-06-01|               false|    null| {Unbekannt, 0}|                null|{Full-time (> 32 ...|                null|                 null|               null|           null|  false|Mitarbeiter Druck...|               null|             null|                null|* Steuerung, Über...|624121969a294da2b...|Mitarbeiter Druck...|      de|                null|    1849|48.473449707,7.94...|    Offenburg|                null|                   false| {Erbringung von s...|Hubert Burda Plat...| {Persönliche Dien...|      hubert-burda-media|                 1849|                 Offenburg|Hubert Burda Medi...|                    null|                   77652|{Baden-Württember...|       {5000+, 8}|      Hubert Burda Platz 1|burda-community-n...|            1|624121969a294da2b...|{Mitarbeiter Druc...|    {Produktion, 18}|{Planer und Vorbe...|{Sheet metal work...|{Occupations in d...|     {Printing Press O...|[{Innovation, KS0...|{Baden-Württember...|  null|       null|            null|             null|     null|          null|     5991631250|[{Serviceorientie...|{Company site, 4}|https://www.burda...|hubert-burda-medi...|                   1|           false|{Regular working ...|\n",
      "|              Ranya Burda|  karriere@burda.com|                   null|             Munchen|Hubert Burda Medi...|        08992500|                 81925|                       null|            null|      Arabellastr 23|{Direct employer, 1}|            amica.de|   Kontakt Ranya Fat...|https://career5.s...|    advertiser_name a...| * Du bist eingesc...|  * Vielfältige Ben...|{Internship / Gra...|2023-06-01|               false|    null| {Unbekannt, 0}|                null|{Full-time (> 32 ...|{Internship, VAC_...|                 null|               null|           null|  false|Praktikum Modered...|               null|             null|                null|* Du unterstützt ...|f340657f727a4d9ca...|Praktikum Modered...|      de|                null|    2434|48.149768829,11.6...|      München|               81925|                   false| {Erbringung von s...|Arabellastr 23, 8...| {Persönliche Dien...|                    null|                 2434|                   München|Hubert Burda Medi...|                    null|                   81925|        {Bayern, BY}|       {5000+, 8}|            Arabellastr 23|            amica.de|            1|f340657f727a4d9ca...|{Praktikant (m/w/...|         {Andere, 0}|{Sonstige Berufe, 0}|{Unknown, 9999999...|        {Unknown, 0}|             {Unknown, 0}|[{Zeitschriften, ...|        {Bayern, BY}|  null|       null|            null|             null|     null|          null|     5991631062|[{Kreativität, KS...|{Company site, 4}|https://www.burda...|hubert-burda-medi...|                   1|           false|{Regular working ...|\n",
      "|            Marius Detmar|  karriere@burda.com|                   null|             Munchen|Hubert Burda Medi...|        08992500|                 81925|                       null|            null|      Arabellastr 23|{Direct employer, 1}|            amica.de|   Burda ist digital...|https://career5.s...|    advertiser_name a...| * Ein fachbezogen...|  * Ambitioniertes ...|{Temporary contra...|2023-06-01|               false|    null|  {Bachelor, 7}|Hubert Burda Medi...|{Full-time (> 32 ...|                null|                 null|               null|           null|  false|TV-Redakteur Peop...|               null|             null|                null|* Sie recherchier...|26a5e10c808442d99...|TV-Redakteur Peop...|      de|                null|    2434|48.135124207,11.5...|      München|                null|                   false| {Erbringung von s...|Arabellastr 23, 8...| {Persönliche Dien...|                    null|                 2434|                   München|Hubert Burda Medi...|                    null|                   81925|        {Bayern, BY}|       {5000+, 8}|            Arabellastr 23|            amica.de|            1|26a5e10c808442d99...|{Redakteur (m/w/d...|{Kunst, Kultur un...|{Journalisten und...| {Journalists, 2642}|{Editors and jour...|     {Editors, 27-3041...|[{Innovation, KS0...|        {Bayern, BY}|  null|       null|            null|             null|     null|          null|     5991632099|[{Anpassungsfähig...|{Company site, 4}|https://www.burda...|hubert-burda-medi...|                   1|           false|{Irregular workin...|\n",
      "|            Hubert Trogus|  karriere@burda.com|                   null|             Munchen|Hubert Burda Medi...|        08992500|                 81925|                       null|            null|      Arabellastr 23|{Direct employer, 1}|            amica.de|   Kontakt Lisa Trog...|https://career5.s...|    advertiser_name a...|                 null|                  null|{Permanent contra...|2023-06-01|               false|    null| {Unbekannt, 0}|* A company with ...|{Full-time (> 32 ...|                null|                 null|               null|           null|  false|  \\nFullstack Dev...|               null|             null|[{Java, KS120076F...|* Designing and e...|77c8ede2dc58403f8...|Fullstack Develop...|      de|[{Englisch, KS123...|    2434|48.135124207,11.5...|      München|                null|                   false| {Erbringung von s...|Arabellastr 23, 8...| {Persönliche Dien...|                    null|                 2434|                   München|Hubert Burda Medi...|                    null|                   81925|        {Bayern, BY}|       {5000+, 8}|            Arabellastr 23|            amica.de|            1|77c8ede2dc58403f8...|{JavaScript-Entwi...|{Informations- un...|{Programmierer (m...|{Applications pro...|{Occupations in p...|     {Computer Program...|[{Journalismus, K...|        {Bayern, BY}|  null|       null|            null|             null|     null|          null|     5991631608|                null|{Company site, 4}|https://www.burda...|hubert-burda-medi...|                   1|           false|{Regular working ...|\n",
      "|            Marius Detmar|  karriere@burda.com|                   null|             Munchen|Hubert Burda Medi...|        08992500|                 81925|                       null|            null|      Arabellastr 23|{Direct employer, 1}|            amica.de|   Kontakt Marius De...|https://career5.s...|    advertiser_name a...| * Ein erfolgreich...|  * Teamgeist und h...|{Temporary contra...|2023-06-01|               false|    null|  {Bachelor, 7}|                null|{Part-time (≤ 32 ...|                null|                 null|               null|           null|  false|Titelgrafiker in ...|               null|             null|[{Adobe Photoshop...|* Kreative Visual...|e9b431af41434f07b...|Titelgrafiker in ...|      de|                null|    1232|52.520008087,13.4...|       Berlin|                null|                   false| {Erbringung von s...|Arabellastr 23, 8...| {Persönliche Dien...|                    null|                 2434|                   München|Hubert Burda Medi...|                    null|                   81925|        {Bayern, BY}|       {5000+, 8}|            Arabellastr 23|            amica.de|            1|e9b431af41434f07b...|      {Unbekannt, 0}|         {Andere, 0}|{Sonstige Berufe, 0}|{Unknown, 9999999...|                null|                     null|[{Innovation, KS0...|        {Berlin, BE}|  null|       null|            null|             null|     null|          null|     5991631178|[{Kreativität, KS...|{Company site, 4}|https://www.burda...|hubert-burda-medi...|                   1|           false|{Irregular workin...|\n",
      "|              Lisa Trogus|  karriere@burda.com|                   null|           Offenburg|Hubert Burda Medi...|        07818401|                 77652|                       null|            null|Hubert Burda Platz 1|{Direct employer, 1}|burda-community-n...|   Kontakt Lisa Trog...|https://career5.s...|    advertiser_name a...| * Du bringst mind...|  * Wir gehen indiv...|{Permanent contra...|2023-06-01|               false|    null| {Unbekannt, 0}|                null|{Part-time / Full...|{Experienced, VAC...|                    2|                  3|           null|  false|Night-Editor / Na...|               null|             null|[{Microsoft Windo...|* Du kümmerst dic...|2bdf6db3843049448...|Night-Editor / Na...|      de|                null|    1849|48.473449707,7.94...|    Offenburg|                null|                   false| {Erbringung von s...|Hubert Burda Plat...| {Persönliche Dien...|      hubert-burda-media|                 1849|                 Offenburg|Hubert Burda Medi...|                    null|                   77652|{Baden-Württember...|       {5000+, 8}|      Hubert Burda Platz 1|burda-community-n...|            1|2bdf6db3843049448...|      {Unbekannt, 0}|         {Andere, 0}|{Sonstige Berufe, 0}|{Unknown, 9999999...|                null|                     null|[{Innovation, KS0...|{Baden-Württember...|  null|       null|            null|             null|     null|          null|     5991632221|[{Soziale Kompete...|{Company site, 4}|https://www.burda...|hubert-burda-medi...|                   1|           false|{Irregular workin...|\n",
      "|            Hubert Trogus|  karriere@burda.com|                   null|           Offenburg|Hubert Burda Medi...|        07818401|                 77652|                       null|            null|        Hauptstr 130|{Direct employer, 1}|hubert-burda-medi...|   Kontakt Lisa Trog...|https://career5.s...|    advertiser_name a...|                 null|                  null|      {Freelance, 9}|2023-06-01|               false|    null| {Unbekannt, 0}|As a (Senior) Bac...|{Full-time (> 32 ...|                null|                 null|               null|           null|  false|  \\nBackend Devel...|               null|             null|[{Künstliche Inte...|* Experience conc...|01a94dd4ba8e45ef9...|Backend Developer...|      de|                null|    7693|51.227741241,6.77...|   Düsseldorf|                null|                   false| {Erbringung von s...|Hauptstr 130, 776...| {Persönliche Dien...|                    null|                 1849|                 Offenburg|Hubert Burda Medi...|                    null|                   77652|{Baden-Württember...|       {5000+, 8}|              Hauptstr 130|hubert-burda-medi...|            1|01a94dd4ba8e45ef9...|{Frontend Entwick...|{Informations- un...|{Web Professional...|{Graphic and mult...|{Occupations in p...|     {Web Developers, ...|[{Business Develo...|{Nordrhein-Westfa...|  null|       null|            null|             null|     null|          null|     5991631393|                null|{Company site, 4}|https://www.burda...|hubert-burda-medi...|                   1|           false|{Regular working ...|\n",
      "|              Lisa Trogus|  karriere@burda.com|                   null|           Offenburg|Hubert Burda Medi...|        07818401|                 77652|                       null|            null|        Hauptstr 130|{Direct employer, 1}|hubert-burda-medi...|   Kontakt Lisa Trog...|https://career5.s...|    advertiser_name a...|                 null|                  null|{Permanent contra...|2023-06-01|               false|    null| {Unbekannt, 0}|* You have experi...|{Full-time (> 32 ...|                null|                 null|               null|           null|  false|## What you can e...|               null|             null|[{Gulp.Js, KS0OU4...|                null|b1d5c179716e4111a...|Frontend Develope...|      de|[{Englisch, KS123...|    null|                null|         null|                null|                   false| {Erbringung von s...|Hauptstr 130, 776...| {Persönliche Dien...|                    null|                 1849|                 Offenburg|Hubert Burda Medi...|                    null|                   77652|{Baden-Württember...|       {5000+, 8}|              Hauptstr 130|hubert-burda-medi...|            1|b1d5c179716e4111a...|{Frontend Entwick...|{Informations- un...|{Web Professional...|{Graphic and mult...|{Occupations in p...|     {Web Developers, ...|[{Architektur, KS...|                null|  null|       null|            null|             null|     null|          null|     5991632291|[{Kommunikation, ...|{Company site, 4}|https://www.burda...|hubert-burda-medi...|                   1|           false|{Regular working ...|\n",
      "|              Lisa Trogus|  karriere@burda.com|                   null|           Offenburg|Hubert Burda Medi...|        07818401|                 77652|                       null|            null|        Hauptstr 130|{Direct employer, 1}|hubert-burda-medi...|   Kontakt Lisa Trog...|https://career5.s...|    advertiser_name a...|                 null|                  null|{Permanent contra...|2023-06-01|               false|    null| {Unbekannt, 0}|* A company with ...|{Full-time (> 32 ...|{Expert, VAC_3_EX...|                 null|               null|           null|  false|## What you can e...|               null|             null|[{Java, KS120076F...|* You have profou...|e2a2cf68217d46c18...|Tech-Lead Softwar...|      de|[{Englisch, KS123...|    null|                null|         null|                null|                   false| {Erbringung von s...|Hauptstr 130, 776...| {Persönliche Dien...|                    null|                 1849|                 Offenburg|Hubert Burda Medi...|                    null|                   77652|{Baden-Württember...|       {5000+, 8}|              Hauptstr 130|hubert-burda-medi...|            1|e2a2cf68217d46c18...|{Datamanager (m/w...|{Informations- un...|{Datenbankspezial...|{Information and ...|{Occupations in d...|     {Database Adminis...|[{Business Develo...|                null|  null|       null|            null|             null|     null|          null|     5991632117|[{Kommunikation, ...|{Company site, 4}|https://www.burda...|hubert-burda-medi...|                   1|           false|{Regular working ...|\n",
      "|             Alicia Burda|  karriere@burda.com|                   null|             Munchen|Hubert Burda Medi...|        08992500|                 81925|                       null|            null|      Arabellastr 23|{Direct employer, 1}|            amica.de|   Kontakt Alicia Jo...|https://career5.s...|    advertiser_name a...| * Bestenfalls has...|  * Zahlreiche Einb...|{Internship / Gra...|2023-06-01|               false|    null|  {Bachelor, 7}|                null|{Full-time (> 32 ...|{Internship, VAC_...|                 null|               null|           null|  false|Werkstudent Backo...|               null|             null|[{Kundendatenmana...|* Du bist Ansprec...|0efe736cd6bc46c2a...|Werkstudent Backo...|      de|[{Englisch, KS123...|    2434|48.135124207,11.5...|      München|                null|                   false| {Erbringung von s...|Arabellastr 23, 8...| {Persönliche Dien...|                    null|                 2434|                   München|Hubert Burda Medi...|                    null|                   81925|        {Bayern, BY}|       {5000+, 8}|            Arabellastr 23|            amica.de|            1|0efe736cd6bc46c2a...|{Verkaufssachbear...|{Administration u...|{Mitarbeiter Verw...|{Contact centre s...|{Occupations in s...|     {Office and Admin...|[{Kundendienst, K...|        {Bayern, BY}|  null|       null|            null|             null|     null|          null|     5991632096|[{Soziale Kompete...|{Company site, 4}|https://www.burda...|hubert-burda-medi...|                   1|           false|{Irregular workin...|\n",
      "|                     null|  karriere@burda.com|                   null|           Offenburg|Hubert Burda Medi...|        07818401|                 77652|                       null|            null|        Hauptstr 130|{Direct employer, 1}|hubert-burda-medi...|                   null|https://career5.s...|    advertiser_name a...|                 null|                  null|      {Freelance, 9}|2023-06-01|               false|    null| {Unbekannt, 0}|* You have experi...|{Full-time (> 32 ...|{Expert, VAC_3_EX...|                 null|               null|           null|  false|## What we would ...|               null|             null|[{Javascript, KS1...|                null|323a2ab2091148da9...|(Senior) Full Sta...|      de|[{Englisch, KS123...|    null|                null|         null|                null|                   false| {Erbringung von s...|Hauptstr 130, 776...| {Persönliche Dien...|                    null|                 1849|                 Offenburg|Hubert Burda Medi...|                    null|                   77652|{Baden-Württember...|       {5000+, 8}|              Hauptstr 130|hubert-burda-medi...|            1|323a2ab2091148da9...|{Full Stack Devel...|{Informations- un...|{Programmierer (m...|{Software develop...|{Occupations in s...|     {Software Develop...|[{Business Develo...|                null|  null|       null|            null|             null|     null|          null|     5991631811|[{Problemanalyse,...|{Company site, 4}|https://www.burda...|hubert-burda-medi...|                   1|           false|{Regular working ...|\n",
      "|         Philipp Schaefer|  karriere@burda.com|                   null|             Munchen|Hubert Burda Medi...|        08992500|                 81925|                       null|            null|      Arabellastr 23|{Direct employer, 1}|            amica.de|   Kontakt Philipp S...|https://career5.s...|    advertiser_name a...| * Berufserfahrung...|  * Eine interessan...|{Permanent contra...|2023-06-01|               false|    null| {Unbekannt, 0}|                null|{Full-time (> 32 ...|                null|                 null|               null|           null|  false|Produktionsmitarb...|               null|             null|                null|                null|c4f8ff65671149ff9...|Produktionsmitarb...|      de|[{Deutsch, KS124B...|    3667|49.452102661,11.0...|     Nürnberg|                null|                   false| {Erbringung von s...|Arabellastr 23, 8...| {Persönliche Dien...|                    null|                 2434|                   München|Hubert Burda Medi...|                    null|                   81925|        {Bayern, BY}|       {5000+, 8}|            Arabellastr 23|            amica.de|            1|c4f8ff65671149ff9...|{Qualitätskontrol...|{Installation, Re...|{Inspektoren/Prüf...|{Mechanical engin...|{Occupations in p...|     {Non-Destructive ...|[{Innovation, KS0...|        {Bayern, BY}|  null|       null|            null|             null|     null|          null|     5991631572|[{Professionelle ...|{Company site, 4}|https://www.burda...|hubert-burda-medi...|                   1|           false|{Regular working ...|\n",
      "|              Lisa Trogus|  karriere@burda.com|                   null|           Offenburg|Hubert Burda Medi...|        07818401|                 77652|                       null|            null|        Hauptstr 130|{Direct employer, 1}|hubert-burda-medi...|   Kontakt Lisa Trog...|https://career5.s...|    advertiser_name a...|                 null|                  null|{Permanent contra...|2023-06-01|               false|    null| {Unbekannt, 0}|You are a clean c...|{Full-time (> 32 ...|{Expert, VAC_3_EX...|                 null|               null|           null|  false|## What you can e...|               null|             null|[{Apple IOS, KS12...|                null|e061eab1760c4912b...|(Senior) iOS Deve...|      de|[{Englisch, KS123...|    null|                null|         null|                null|                   false| {Erbringung von s...|Hauptstr 130, 776...| {Persönliche Dien...|                    null|                 1849|                 Offenburg|Hubert Burda Medi...|                    null|                   77652|{Baden-Württember...|       {5000+, 8}|              Hauptstr 130|hubert-burda-medi...|            1|e061eab1760c4912b...|{iOS-Entwickler (...|{Informations- un...|{Programmierer (m...|{Applications pro...|{Occupations in s...|     {Computer Program...|[{User Experience...|                null|  null|       null|            null|             null|     null|          null|     5991632045|                null|{Company site, 4}|https://www.burda...|hubert-burda-medi...|                   1|           false|{Regular working ...|\n",
      "+-------------------------+--------------------+-----------------------+--------------------+--------------------+----------------+----------------------+---------------------------+----------------+--------------------+--------------------+--------------------+-----------------------+--------------------+------------------------+---------------------+----------------------+--------------------+----------+--------------------+--------+---------------+--------------------+--------------------+--------------------+---------------------+-------------------+---------------+-------+--------------------+-------------------+-----------------+--------------------+--------------------+--------------------+--------------------+--------+--------------------+--------+--------------------+-------------+--------------------+------------------------+---------------------+--------------------+---------------------+------------------------+---------------------+--------------------------+--------------------+------------------------+------------------------+--------------------+-----------------+--------------------------+--------------------+-------------+--------------------+--------------------+--------------------+--------------------+--------------------+--------------------+-------------------------+--------------------+--------------------+------+-----------+----------------+-----------------+---------+--------------+---------------+--------------------+-----------------+--------------------+--------------------+--------------------+----------------+--------------------+\n",
      "only showing top 20 rows\n",
      "\n"
     ]
    }
   ],
   "source": [
    "spark = SparkSession.builder \\\n",
    "    .master(\"local\") \\\n",
    "    .appName(\"DE-Project\") \\\n",
    "    .getOrCreate()\n",
    "\n",
    "print(filesToLoadInDF)\n",
    "df = spark.read.json(filesToLoadInDF)  # Use the extracted file paths here\n",
    "df.show()"
   ],
   "metadata": {
    "collapsed": false,
    "ExecuteTime": {
     "end_time": "2023-07-19T22:26:04.245218204Z",
     "start_time": "2023-07-19T22:22:34.674310759Z"
    }
   }
  },
  {
   "cell_type": "code",
   "execution_count": 7,
   "outputs": [
    {
     "name": "stdout",
     "output_type": "stream",
     "text": [
      "root\n",
      " |-- advertiser_contact_person: string (nullable = true)\n",
      " |-- advertiser_email: string (nullable = true)\n",
      " |-- advertiser_house_number: string (nullable = true)\n",
      " |-- advertiser_location: string (nullable = true)\n",
      " |-- advertiser_name: string (nullable = true)\n",
      " |-- advertiser_phone: string (nullable = true)\n",
      " |-- advertiser_postal_code: string (nullable = true)\n",
      " |-- advertiser_reference_number: string (nullable = true)\n",
      " |-- advertiser_spend: long (nullable = true)\n",
      " |-- advertiser_street: string (nullable = true)\n",
      " |-- advertiser_type: struct (nullable = true)\n",
      " |    |-- label: string (nullable = true)\n",
      " |    |-- value: long (nullable = true)\n",
      " |-- advertiser_website: string (nullable = true)\n",
      " |-- application_description: string (nullable = true)\n",
      " |-- apply_url: string (nullable = true)\n",
      " |-- available_contact_fields: string (nullable = true)\n",
      " |-- candidate_description: string (nullable = true)\n",
      " |-- conditions_description: string (nullable = true)\n",
      " |-- contract_type: struct (nullable = true)\n",
      " |    |-- label: string (nullable = true)\n",
      " |    |-- value: long (nullable = true)\n",
      " |-- date: string (nullable = true)\n",
      " |-- duplicate_on_jobsite: boolean (nullable = true)\n",
      " |-- duration: long (nullable = true)\n",
      " |-- education_level: struct (nullable = true)\n",
      " |    |-- label: string (nullable = true)\n",
      " |    |-- value: long (nullable = true)\n",
      " |-- employer_description: string (nullable = true)\n",
      " |-- employment_type: struct (nullable = true)\n",
      " |    |-- label: string (nullable = true)\n",
      " |    |-- value: long (nullable = true)\n",
      " |-- experience_level: struct (nullable = true)\n",
      " |    |-- label: string (nullable = true)\n",
      " |    |-- value: string (nullable = true)\n",
      " |-- experience_years_from: long (nullable = true)\n",
      " |-- experience_years_to: long (nullable = true)\n",
      " |-- expiration_date: string (nullable = true)\n",
      " |-- expired: boolean (nullable = true)\n",
      " |-- full_text: string (nullable = true)\n",
      " |-- hours_per_week_from: long (nullable = true)\n",
      " |-- hours_per_week_to: long (nullable = true)\n",
      " |-- it_skills: array (nullable = true)\n",
      " |    |-- element: struct (containsNull = true)\n",
      " |    |    |-- label: string (nullable = true)\n",
      " |    |    |-- value: string (nullable = true)\n",
      " |-- job_description: string (nullable = true)\n",
      " |-- job_id: string (nullable = true)\n",
      " |-- job_title: string (nullable = true)\n",
      " |-- language: string (nullable = true)\n",
      " |-- language_skills: array (nullable = true)\n",
      " |    |-- element: struct (containsNull = true)\n",
      " |    |    |-- label: string (nullable = true)\n",
      " |    |    |-- value: string (nullable = true)\n",
      " |-- location: string (nullable = true)\n",
      " |-- location_coordinates: string (nullable = true)\n",
      " |-- location_name: string (nullable = true)\n",
      " |-- location_postal_code: string (nullable = true)\n",
      " |-- location_remote_possible: boolean (nullable = true)\n",
      " |-- organization_activity: struct (nullable = true)\n",
      " |    |-- label: string (nullable = true)\n",
      " |    |-- value: string (nullable = true)\n",
      " |-- organization_address: string (nullable = true)\n",
      " |-- organization_industry: struct (nullable = true)\n",
      " |    |-- label: string (nullable = true)\n",
      " |    |-- value: string (nullable = true)\n",
      " |-- organization_linkedin_id: string (nullable = true)\n",
      " |-- organization_location: string (nullable = true)\n",
      " |-- organization_location_name: string (nullable = true)\n",
      " |-- organization_name: string (nullable = true)\n",
      " |-- organization_national_id: string (nullable = true)\n",
      " |-- organization_postal_code: string (nullable = true)\n",
      " |-- organization_region: struct (nullable = true)\n",
      " |    |-- label: string (nullable = true)\n",
      " |    |-- value: string (nullable = true)\n",
      " |-- organization_size: struct (nullable = true)\n",
      " |    |-- label: string (nullable = true)\n",
      " |    |-- value: long (nullable = true)\n",
      " |-- organization_street_number: string (nullable = true)\n",
      " |-- organization_website: string (nullable = true)\n",
      " |-- posting_count: long (nullable = true)\n",
      " |-- posting_id: string (nullable = true)\n",
      " |-- profession: struct (nullable = true)\n",
      " |    |-- label: string (nullable = true)\n",
      " |    |-- value: long (nullable = true)\n",
      " |-- profession_class: struct (nullable = true)\n",
      " |    |-- label: string (nullable = true)\n",
      " |    |-- value: long (nullable = true)\n",
      " |-- profession_group: struct (nullable = true)\n",
      " |    |-- label: string (nullable = true)\n",
      " |    |-- value: long (nullable = true)\n",
      " |-- profession_isco_code: struct (nullable = true)\n",
      " |    |-- label: string (nullable = true)\n",
      " |    |-- value: string (nullable = true)\n",
      " |-- profession_kldb_code: struct (nullable = true)\n",
      " |    |-- label: string (nullable = true)\n",
      " |    |-- value: long (nullable = true)\n",
      " |-- profession_onet_2019_code: struct (nullable = true)\n",
      " |    |-- label: string (nullable = true)\n",
      " |    |-- value: string (nullable = true)\n",
      " |-- professional_skills: array (nullable = true)\n",
      " |    |-- element: struct (containsNull = true)\n",
      " |    |    |-- label: string (nullable = true)\n",
      " |    |    |-- value: string (nullable = true)\n",
      " |-- region: struct (nullable = true)\n",
      " |    |-- label: string (nullable = true)\n",
      " |    |-- value: string (nullable = true)\n",
      " |-- salary: long (nullable = true)\n",
      " |-- salary_from: long (nullable = true)\n",
      " |-- salary_from_rate: long (nullable = true)\n",
      " |-- salary_time_scale: string (nullable = true)\n",
      " |-- salary_to: long (nullable = true)\n",
      " |-- salary_to_rate: long (nullable = true)\n",
      " |-- sequence_number: long (nullable = true)\n",
      " |-- soft_skills: array (nullable = true)\n",
      " |    |-- element: struct (containsNull = true)\n",
      " |    |    |-- label: string (nullable = true)\n",
      " |    |    |-- value: string (nullable = true)\n",
      " |-- source_type: struct (nullable = true)\n",
      " |    |-- label: string (nullable = true)\n",
      " |    |-- value: long (nullable = true)\n",
      " |-- source_url: string (nullable = true)\n",
      " |-- source_website: string (nullable = true)\n",
      " |-- source_website_count: long (nullable = true)\n",
      " |-- via_intermediary: boolean (nullable = true)\n",
      " |-- working_hours_type: struct (nullable = true)\n",
      " |    |-- label: string (nullable = true)\n",
      " |    |-- value: long (nullable = true)\n",
      "\n"
     ]
    }
   ],
   "source": [
    "df.printSchema()\n"
   ],
   "metadata": {
    "collapsed": false,
    "ExecuteTime": {
     "end_time": "2023-07-19T22:26:53.511164064Z",
     "start_time": "2023-07-19T22:26:53.155071105Z"
    }
   }
  },
  {
   "cell_type": "code",
   "execution_count": 9,
   "outputs": [],
   "source": [
    "import pyspark.sql.types as T\n",
    "\n",
    "def change_column_types(df):\n",
    "  \"\"\"Changes the column types of the dataframe.\"\"\"\n",
    "\n",
    "  # Change the data types of the columns.\n",
    "  df = df.withColumn(\"job_id\", df[\"job_id\"].cast(T.StringType()))\n",
    "  df = df.withColumn(\"posting_count\", df[\"posting_count\"].cast(T.LongType()))\n",
    "  df = df.withColumn(\"source_website_count\", df[\"source_website_count\"].cast(T.LongType()))\n",
    "  df = df.withColumn(\"date\", df[\"date\"].cast(T.DateType()))\n",
    "  df = df.withColumn(\"expiration_date\", df[\"expiration_date\"].cast(T.DateType()))\n",
    "  df = df.withColumn(\"duration\", df[\"duration\"].cast(T.LongType()))\n",
    "  df = df.withColumn(\"salary\", df[\"salary\"].cast(T.LongType()))\n",
    "  df = df.withColumn(\"salary_from\", df[\"salary_from\"].cast(T.LongType()))\n",
    "  df = df.withColumn(\"salary_to\", df[\"salary_to\"].cast(T.LongType()))\n",
    "  df = df.withColumn(\"experience_years_from\", df[\"experience_years_from\"].cast(T.LongType()))\n",
    "  df = df.withColumn(\"experience_years_to\", df[\"experience_years_to\"].cast(T.LongType()))\n",
    "  df = df.withColumn(\"hours_per_week_from\", df[\"hours_per_week_from\"].cast(T.LongType()))\n",
    "  df = df.withColumn(\"hours_per_week_to\", df[\"hours_per_week_to\"].cast(T.LongType()))\n",
    "\n",
    "  # Return the dataframe with the changed column types.\n",
    "  return df\n",
    "\n",
    "df_copy = df\n",
    "df_correctedTypes = change_column_types(df_copy)"
   ],
   "metadata": {
    "collapsed": false,
    "ExecuteTime": {
     "end_time": "2023-07-19T23:21:26.920116698Z",
     "start_time": "2023-07-19T23:21:19.464249320Z"
    }
   }
  },
  {
   "cell_type": "code",
   "execution_count": 10,
   "outputs": [
    {
     "name": "stdout",
     "output_type": "stream",
     "text": [
      "root\n",
      " |-- advertiser_contact_person: string (nullable = true)\n",
      " |-- advertiser_email: string (nullable = true)\n",
      " |-- advertiser_house_number: string (nullable = true)\n",
      " |-- advertiser_location: string (nullable = true)\n",
      " |-- advertiser_name: string (nullable = true)\n",
      " |-- advertiser_phone: string (nullable = true)\n",
      " |-- advertiser_postal_code: string (nullable = true)\n",
      " |-- advertiser_reference_number: string (nullable = true)\n",
      " |-- advertiser_spend: long (nullable = true)\n",
      " |-- advertiser_street: string (nullable = true)\n",
      " |-- advertiser_type: struct (nullable = true)\n",
      " |    |-- label: string (nullable = true)\n",
      " |    |-- value: long (nullable = true)\n",
      " |-- advertiser_website: string (nullable = true)\n",
      " |-- application_description: string (nullable = true)\n",
      " |-- apply_url: string (nullable = true)\n",
      " |-- available_contact_fields: string (nullable = true)\n",
      " |-- candidate_description: string (nullable = true)\n",
      " |-- conditions_description: string (nullable = true)\n",
      " |-- contract_type: struct (nullable = true)\n",
      " |    |-- label: string (nullable = true)\n",
      " |    |-- value: long (nullable = true)\n",
      " |-- date: date (nullable = true)\n",
      " |-- duplicate_on_jobsite: boolean (nullable = true)\n",
      " |-- duration: long (nullable = true)\n",
      " |-- education_level: struct (nullable = true)\n",
      " |    |-- label: string (nullable = true)\n",
      " |    |-- value: long (nullable = true)\n",
      " |-- employer_description: string (nullable = true)\n",
      " |-- employment_type: struct (nullable = true)\n",
      " |    |-- label: string (nullable = true)\n",
      " |    |-- value: long (nullable = true)\n",
      " |-- experience_level: struct (nullable = true)\n",
      " |    |-- label: string (nullable = true)\n",
      " |    |-- value: string (nullable = true)\n",
      " |-- experience_years_from: long (nullable = true)\n",
      " |-- experience_years_to: long (nullable = true)\n",
      " |-- expiration_date: date (nullable = true)\n",
      " |-- expired: boolean (nullable = true)\n",
      " |-- full_text: string (nullable = true)\n",
      " |-- hours_per_week_from: long (nullable = true)\n",
      " |-- hours_per_week_to: long (nullable = true)\n",
      " |-- it_skills: array (nullable = true)\n",
      " |    |-- element: struct (containsNull = true)\n",
      " |    |    |-- label: string (nullable = true)\n",
      " |    |    |-- value: string (nullable = true)\n",
      " |-- job_description: string (nullable = true)\n",
      " |-- job_id: string (nullable = true)\n",
      " |-- job_title: string (nullable = true)\n",
      " |-- language: string (nullable = true)\n",
      " |-- language_skills: array (nullable = true)\n",
      " |    |-- element: struct (containsNull = true)\n",
      " |    |    |-- label: string (nullable = true)\n",
      " |    |    |-- value: string (nullable = true)\n",
      " |-- location: string (nullable = true)\n",
      " |-- location_coordinates: string (nullable = true)\n",
      " |-- location_name: string (nullable = true)\n",
      " |-- location_postal_code: string (nullable = true)\n",
      " |-- location_remote_possible: boolean (nullable = true)\n",
      " |-- organization_activity: struct (nullable = true)\n",
      " |    |-- label: string (nullable = true)\n",
      " |    |-- value: string (nullable = true)\n",
      " |-- organization_address: string (nullable = true)\n",
      " |-- organization_industry: struct (nullable = true)\n",
      " |    |-- label: string (nullable = true)\n",
      " |    |-- value: string (nullable = true)\n",
      " |-- organization_linkedin_id: string (nullable = true)\n",
      " |-- organization_location: string (nullable = true)\n",
      " |-- organization_location_name: string (nullable = true)\n",
      " |-- organization_name: string (nullable = true)\n",
      " |-- organization_national_id: string (nullable = true)\n",
      " |-- organization_postal_code: string (nullable = true)\n",
      " |-- organization_region: struct (nullable = true)\n",
      " |    |-- label: string (nullable = true)\n",
      " |    |-- value: string (nullable = true)\n",
      " |-- organization_size: struct (nullable = true)\n",
      " |    |-- label: string (nullable = true)\n",
      " |    |-- value: long (nullable = true)\n",
      " |-- organization_street_number: string (nullable = true)\n",
      " |-- organization_website: string (nullable = true)\n",
      " |-- posting_count: long (nullable = true)\n",
      " |-- posting_id: string (nullable = true)\n",
      " |-- profession: struct (nullable = true)\n",
      " |    |-- label: string (nullable = true)\n",
      " |    |-- value: long (nullable = true)\n",
      " |-- profession_class: struct (nullable = true)\n",
      " |    |-- label: string (nullable = true)\n",
      " |    |-- value: long (nullable = true)\n",
      " |-- profession_group: struct (nullable = true)\n",
      " |    |-- label: string (nullable = true)\n",
      " |    |-- value: long (nullable = true)\n",
      " |-- profession_isco_code: struct (nullable = true)\n",
      " |    |-- label: string (nullable = true)\n",
      " |    |-- value: string (nullable = true)\n",
      " |-- profession_kldb_code: struct (nullable = true)\n",
      " |    |-- label: string (nullable = true)\n",
      " |    |-- value: long (nullable = true)\n",
      " |-- profession_onet_2019_code: struct (nullable = true)\n",
      " |    |-- label: string (nullable = true)\n",
      " |    |-- value: string (nullable = true)\n",
      " |-- professional_skills: array (nullable = true)\n",
      " |    |-- element: struct (containsNull = true)\n",
      " |    |    |-- label: string (nullable = true)\n",
      " |    |    |-- value: string (nullable = true)\n",
      " |-- region: struct (nullable = true)\n",
      " |    |-- label: string (nullable = true)\n",
      " |    |-- value: string (nullable = true)\n",
      " |-- salary: long (nullable = true)\n",
      " |-- salary_from: long (nullable = true)\n",
      " |-- salary_from_rate: long (nullable = true)\n",
      " |-- salary_time_scale: string (nullable = true)\n",
      " |-- salary_to: long (nullable = true)\n",
      " |-- salary_to_rate: long (nullable = true)\n",
      " |-- sequence_number: long (nullable = true)\n",
      " |-- soft_skills: array (nullable = true)\n",
      " |    |-- element: struct (containsNull = true)\n",
      " |    |    |-- label: string (nullable = true)\n",
      " |    |    |-- value: string (nullable = true)\n",
      " |-- source_type: struct (nullable = true)\n",
      " |    |-- label: string (nullable = true)\n",
      " |    |-- value: long (nullable = true)\n",
      " |-- source_url: string (nullable = true)\n",
      " |-- source_website: string (nullable = true)\n",
      " |-- source_website_count: long (nullable = true)\n",
      " |-- via_intermediary: boolean (nullable = true)\n",
      " |-- working_hours_type: struct (nullable = true)\n",
      " |    |-- label: string (nullable = true)\n",
      " |    |-- value: long (nullable = true)\n",
      "\n"
     ]
    }
   ],
   "source": [
    "df_correctedTypes.printSchema()"
   ],
   "metadata": {
    "collapsed": false,
    "ExecuteTime": {
     "end_time": "2023-07-19T23:21:39.122456022Z",
     "start_time": "2023-07-19T23:21:38.877797098Z"
    }
   }
  },
  {
   "cell_type": "markdown",
   "source": [
    "Postgres Connection"
   ],
   "metadata": {
    "collapsed": false
   }
  },
  {
   "cell_type": "code",
   "execution_count": 36,
   "outputs": [
    {
     "data": {
      "text/plain": "<connection object at 0x7ff012b39bc0; dsn: 'user=airflow password=xxx dbname=job_ads_db host=localhost port=5432', closed: 0>"
     },
     "execution_count": 36,
     "metadata": {},
     "output_type": "execute_result"
    }
   ],
   "source": [
    "# Postgres Connection\n",
    "import psycopg2\n",
    "pgconn = psycopg2.connect(\n",
    "    host=os.getenv('POSTGRES_HOST'),\n",
    "    user=os.getenv('POSTGRES_USER'),\n",
    "    database=os.getenv('POSTGRES_DB'),\n",
    "    password=os.getenv('POSTGRES_PASSWORD'),\n",
    "    port=os.getenv('POSTGRES_PORT')\n",
    ")\n",
    "pgconn"
   ],
   "metadata": {
    "collapsed": false,
    "ExecuteTime": {
     "end_time": "2023-07-20T00:27:38.791521570Z",
     "start_time": "2023-07-20T00:27:38.424538157Z"
    }
   }
  },
  {
   "cell_type": "code",
   "execution_count": 42,
   "outputs": [],
   "source": [
    "# craete a new database\n",
    "pgconn.autocommit = True\n",
    "pgcursor = pgconn.cursor()\n",
    "# drop_db_query = '''DROP DATABASE IF EXISTS job_ads_db;'''\n",
    "# pgcursor.execute(drop_db_query)\n",
    "# create_db_query = '''CREATE DATABASE job_ads_db;'''\n",
    "# pgcursor.execute(create_db_query)\n",
    "\n",
    "create_table_query = '''CREATE TABLE  IF NOT EXISTS tk_2022_07 (\n",
    "  job_id char(32) NULL,\n",
    "  posting_count int NULL,\n",
    "  source_website_count int NULL,\n",
    "  date date NULL,\n",
    "  sequence_number bigint NULL,\n",
    "  expiration_date date NULL,\n",
    "  expired boolean NULL,\n",
    "  duration int NULL,\n",
    "  source_url varchar(255) NULL,\n",
    "  source_website varchar(255) NULL,\n",
    "  source_type char(2) NULL,\n",
    "  duplicate boolean NULL,\n",
    "  first_posting boolean NULL,\n",
    "  posting_id char(32) NULL,\n",
    "  duplicate_on_jobsite boolean NULL,\n",
    "  via_intermediary boolean NULL,\n",
    "  language char(3) NULL,\n",
    "  job_title varchar(255) NULL,\n",
    "  profession varchar(4) NULL,\n",
    "  profession_group varchar(4) NULL,\n",
    "  profession_class varchar(4) NULL,\n",
    "  profession_isco_code varchar(10) NULL,\n",
    "  location char(5) NULL,\n",
    "  location_name varchar(255) NULL,\n",
    "  location_coordinates varchar(25) NULL,\n",
    "  location_remote_possible boolean NULL,\n",
    "  region char(2) NULL,\n",
    "  education_level char(2) NULL,\n",
    "  advertiser_name varchar(255) NULL,\n",
    "  advertiser_type char(2) NULL,\n",
    "  advertiser_street varchar(255) NULL,\n",
    "  advertiser_postal_code varchar(15) NULL,\n",
    "  advertiser_location varchar(255) NULL,\n",
    "  advertiser_phone varchar(255) NULL,\n",
    "  available_contact_fields varchar(100) NULL,\n",
    "  organization int NULL,\n",
    "  organization_name varchar(255) NULL,\n",
    "  organization_industry char(2) NULL,\n",
    "  organization_activity varchar(10) NULL,\n",
    "  organization_size char(2) NULL,\n",
    "  organization_address varchar(255) NULL,\n",
    "  organization_street_number varchar(100) NULL,\n",
    "  organization_postal_code char(5) NULL,\n",
    "  organization_location char(5) NULL,\n",
    "  organization_location_name varchar(255) NULL,\n",
    "  organization_region char(2) NULL,\n",
    "  contract_type char(2) NULL,\n",
    "  working_hours_type char(1) NULL,\n",
    "  hours_per_week_from int NULL,\n",
    "  hours_per_week_to int NULL,\n",
    "  employment_type char(1) NULL,\n",
    "  full_text text NULL,\n",
    "  job_description text NULL,\n",
    "  candidate_description text NULL,\n",
    "  conditions_description text NULL,\n",
    "  soft_skills text NULL,\n",
    "  professional_skills text NULL,\n",
    "  advertiser_house_number varchar(15) NULL,\n",
    "  advertiser_email varchar(255) NULL,\n",
    "  advertiser_website varchar(255) NULL,\n",
    "  advertiser_contact_person varchar(255) NULL,\n",
    "  advertiser_reference_number varchar(255) NULL,\n",
    "  application_description text NULL,\n",
    "  organization_website varchar(100) NULL,\n",
    "  employer_description text NULL,\n",
    "  language_skills text NULL,\n",
    "  it_skills text NULL,\n",
    "  organization_linkedin_id varchar(255) NULL,\n",
    "  organization_national_id varchar(25) NULL,\n",
    "  experience_years_from int NULL,\n",
    "  salary int NULL,\n",
    "  salary_from int NULL,\n",
    "  salary_to int NULL,\n",
    "  experience_years_to int NULL\n",
    "); '''\n",
    "\n",
    "pgcursor.execute(create_table_query)\n",
    "pgcursor.close()\n"
   ],
   "metadata": {
    "collapsed": false,
    "ExecuteTime": {
     "end_time": "2023-07-20T00:33:27.636464209Z",
     "start_time": "2023-07-20T00:33:27.260320771Z"
    }
   }
  },
  {
   "cell_type": "code",
   "execution_count": 39,
   "outputs": [],
   "source": [
    "pycursor = pgconn.cursor()\n",
    "drop_table_query = '''DROP TABLE IF EXISTS tk_2022_07;'''\n",
    "pycursor.execute(drop_table_query)"
   ],
   "metadata": {
    "collapsed": false,
    "ExecuteTime": {
     "end_time": "2023-07-20T00:30:38.705531616Z",
     "start_time": "2023-07-20T00:30:38.394086658Z"
    }
   }
  },
  {
   "cell_type": "markdown",
   "source": [],
   "metadata": {
    "collapsed": false
   }
  }
 ],
 "metadata": {
  "kernelspec": {
   "display_name": "Python 3",
   "language": "python",
   "name": "python3"
  },
  "language_info": {
   "codemirror_mode": {
    "name": "ipython",
    "version": 2
   },
   "file_extension": ".py",
   "mimetype": "text/x-python",
   "name": "python",
   "nbconvert_exporter": "python",
   "pygments_lexer": "ipython2",
   "version": "2.7.6"
  }
 },
 "nbformat": 4,
 "nbformat_minor": 0
}
